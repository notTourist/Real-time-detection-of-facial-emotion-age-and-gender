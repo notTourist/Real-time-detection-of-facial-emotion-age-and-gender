{
  "nbformat": 4,
  "nbformat_minor": 0,
  "metadata": {
    "colab": {
      "provenance": [],
      "machine_shape": "hm",
      "gpuType": "T4",
      "include_colab_link": true
    },
    "kernelspec": {
      "name": "python3",
      "display_name": "Python 3"
    },
    "accelerator": "TPU"
  },
  "cells": [
    {
      "cell_type": "markdown",
      "metadata": {
        "id": "view-in-github",
        "colab_type": "text"
      },
      "source": [
        "<a href=\"https://colab.research.google.com/github/Rupesh-Kataria/Real-time-detection-of-facial-emotion-age-and-gender/blob/main/Age_Gender_Detection.ipynb\" target=\"_parent\"><img src=\"https://colab.research.google.com/assets/colab-badge.svg\" alt=\"Open In Colab\"/></a>"
      ]
    },
    {
      "cell_type": "markdown",
      "metadata": {
        "id": "4cbgwZWWfWpp"
      },
      "source": [
        "# New Section"
      ]
    },
    {
      "cell_type": "code",
      "metadata": {
        "id": "tAb77yZ9fzMG",
        "colab": {
          "base_uri": "https://localhost:8080/"
        },
        "outputId": "9e16c93f-a873-4527-c92c-f8e977a5e836"
      },
      "source": [
        "from google.colab import drive\n",
        "drive.mount('/content/gdrive')"
      ],
      "execution_count": 1,
      "outputs": [
        {
          "output_type": "stream",
          "name": "stdout",
          "text": [
            "Drive already mounted at /content/gdrive; to attempt to forcibly remount, call drive.mount(\"/content/gdrive\", force_remount=True).\n"
          ]
        }
      ]
    },
    {
      "cell_type": "code",
      "metadata": {
        "id": "pafL7Li0jyXW",
        "colab": {
          "base_uri": "https://localhost:8080/"
        },
        "outputId": "db9e5721-bb10-40d9-b07e-59a058fd872a"
      },
      "source": [
        "!ln -s /content/gdrive/My\\ Drive/ /mydrive"
      ],
      "execution_count": 2,
      "outputs": [
        {
          "output_type": "stream",
          "name": "stdout",
          "text": [
            "ln: failed to create symbolic link '/mydrive/My Drive': File exists\n"
          ]
        }
      ]
    },
    {
      "cell_type": "code",
      "source": [
        "%cd /mydrive/Age_Gender_Detection"
      ],
      "metadata": {
        "colab": {
          "base_uri": "https://localhost:8080/"
        },
        "id": "FcCDziY1D22l",
        "outputId": "549ba829-ccf4-41f4-a4c7-2a75302269e3"
      },
      "execution_count": 3,
      "outputs": [
        {
          "output_type": "stream",
          "name": "stdout",
          "text": [
            "/content/gdrive/My Drive/Age_Gender_Detection\n"
          ]
        }
      ]
    },
    {
      "cell_type": "code",
      "source": [
        "import pandas as pd\n",
        "import numpy as np\n",
        "import os\n",
        "import matplotlib.pyplot as plt\n",
        "import cv2\n",
        "from keras.models import Sequential,load_model,Model\n",
        "from keras.layers import Conv2D,MaxPool2D,Dense,Dropout,BatchNormalization,Flatten,Input\n",
        "from sklearn.model_selection import train_test_split"
      ],
      "metadata": {
        "id": "CBN0pezWD5nX"
      },
      "execution_count": 4,
      "outputs": []
    },
    {
      "cell_type": "code",
      "source": [
        "path = \"UTKFace1/UTKFace\"\n",
        "images = []\n",
        "age = []\n",
        "gender = []\n",
        "i=0\n",
        "for img in os.listdir(path):\n",
        "  i=i+1\n",
        "  if i%3==0:\n",
        "    ages = img.split(\"_\")[0]\n",
        "    genders = img.split(\"_\")[1]\n",
        "    img = cv2.imread(str(path)+\"/\"+str(img))\n",
        "    img = cv2.cvtColor(img,cv2.COLOR_BGR2RGB)\n",
        "    images.append(np.array(img))\n",
        "    age.append(np.array(ages))\n",
        "    gender.append(np.array(genders))"
      ],
      "metadata": {
        "id": "hi5SqcMMD8MN"
      },
      "execution_count": 5,
      "outputs": []
    },
    {
      "cell_type": "code",
      "source": [
        "age = np.array(age,dtype=np.int64)\n",
        "images = np.array(images)/255\n",
        "gender = np.array(gender,np.uint64)"
      ],
      "metadata": {
        "id": "bsSzZKPpD_ju"
      },
      "execution_count": 6,
      "outputs": []
    },
    {
      "cell_type": "code",
      "source": [
        "images.shape"
      ],
      "metadata": {
        "colab": {
          "base_uri": "https://localhost:8080/"
        },
        "id": "AYZYghy_EviH",
        "outputId": "244f341c-32dc-4082-e607-4871a5eebf96"
      },
      "execution_count": 7,
      "outputs": [
        {
          "output_type": "execute_result",
          "data": {
            "text/plain": [
              "(4458, 200, 200, 3)"
            ]
          },
          "metadata": {},
          "execution_count": 7
        }
      ]
    },
    {
      "cell_type": "code",
      "source": [
        "x_train_age, x_test_age, y_train_age, y_test_age = train_test_split(images, age, random_state=42)\n",
        "x_train_gender, x_test_gender, y_train_gender, y_test_gender = train_test_split(images, gender, random_state=42)"
      ],
      "metadata": {
        "id": "amU6P35pE11F"
      },
      "execution_count": 7,
      "outputs": []
    },
    {
      "cell_type": "code",
      "source": [
        "age_model = Sequential()\n",
        "age_model.add(Conv2D(128, kernel_size=3, activation='relu', input_shape=(200,200,3)))\n",
        "#age_model.add(Conv2D(128, kernel_size=3, activation='relu'))\n",
        "age_model.add(MaxPool2D(pool_size=3, strides=2))\n",
        "\n",
        "age_model.add(Conv2D(128, kernel_size=3, activation='relu'))\n",
        "#age_model.add(Conv2D(128, kernel_size=3, activation='relu'))\n",
        "age_model.add(MaxPool2D(pool_size=3, strides=2))\n",
        "\n",
        "age_model.add(Conv2D(256, kernel_size=3, activation='relu'))\n",
        "#age_model.add(Conv2D(256, kernel_size=3, activation='relu'))\n",
        "age_model.add(MaxPool2D(pool_size=3, strides=2))\n",
        "\n",
        "age_model.add(Conv2D(512, kernel_size=3, activation='relu'))\n",
        "#age_model.add(Conv2D(512, kernel_size=3, activation='relu'))\n",
        "age_model.add(MaxPool2D(pool_size=3, strides=2))\n",
        "\n",
        "age_model.add(Flatten())\n",
        "age_model.add(Dropout(0.2))\n",
        "age_model.add(Dense(512, activation='relu'))\n",
        "\n",
        "age_model.add(Dense(1, activation='linear', name='age'))\n",
        "\n",
        "age_model.compile(optimizer='adam', loss='mse', metrics=['mae'])\n",
        "print(age_model.summary())"
      ],
      "metadata": {
        "colab": {
          "base_uri": "https://localhost:8080/"
        },
        "id": "MnKmsZu7FAwI",
        "outputId": "d54898e2-e8df-4aab-be6e-61abda1e4e28"
      },
      "execution_count": 8,
      "outputs": [
        {
          "output_type": "stream",
          "name": "stdout",
          "text": [
            "Model: \"sequential\"\n",
            "_________________________________________________________________\n",
            " Layer (type)                Output Shape              Param #   \n",
            "=================================================================\n",
            " conv2d (Conv2D)             (None, 198, 198, 128)     3584      \n",
            "                                                                 \n",
            " max_pooling2d (MaxPooling2D  (None, 98, 98, 128)      0         \n",
            " )                                                               \n",
            "                                                                 \n",
            " conv2d_1 (Conv2D)           (None, 96, 96, 128)       147584    \n",
            "                                                                 \n",
            " max_pooling2d_1 (MaxPooling  (None, 47, 47, 128)      0         \n",
            " 2D)                                                             \n",
            "                                                                 \n",
            " conv2d_2 (Conv2D)           (None, 45, 45, 256)       295168    \n",
            "                                                                 \n",
            " max_pooling2d_2 (MaxPooling  (None, 22, 22, 256)      0         \n",
            " 2D)                                                             \n",
            "                                                                 \n",
            " conv2d_3 (Conv2D)           (None, 20, 20, 512)       1180160   \n",
            "                                                                 \n",
            " max_pooling2d_3 (MaxPooling  (None, 9, 9, 512)        0         \n",
            " 2D)                                                             \n",
            "                                                                 \n",
            " flatten (Flatten)           (None, 41472)             0         \n",
            "                                                                 \n",
            " dropout (Dropout)           (None, 41472)             0         \n",
            "                                                                 \n",
            " dense (Dense)               (None, 512)               21234176  \n",
            "                                                                 \n",
            " age (Dense)                 (None, 1)                 513       \n",
            "                                                                 \n",
            "=================================================================\n",
            "Total params: 22,861,185\n",
            "Trainable params: 22,861,185\n",
            "Non-trainable params: 0\n",
            "_________________________________________________________________\n",
            "None\n"
          ]
        }
      ]
    },
    {
      "cell_type": "code",
      "source": [
        "history_age = age_model.fit(x_train_age, y_train_age,\n",
        "                        validation_data=(x_test_age, y_test_age), epochs=20)\n",
        "\n",
        "age_model.save('age_model_20epochs.h5')"
      ],
      "metadata": {
        "colab": {
          "base_uri": "https://localhost:8080/"
        },
        "id": "fmyCF0wtFIVW",
        "outputId": "5ccffc92-f151-45b7-ca48-4d737ef41e0a"
      },
      "execution_count": 10,
      "outputs": [
        {
          "output_type": "stream",
          "name": "stdout",
          "text": [
            "Epoch 1/20\n",
            "105/105 [==============================] - 169s 2s/step - loss: 439.4177 - mae: 11.2810 - val_loss: 54.7906 - val_mae: 6.2202\n",
            "Epoch 2/20\n",
            "105/105 [==============================] - 166s 2s/step - loss: 45.9329 - mae: 5.4879 - val_loss: 40.4461 - val_mae: 5.1669\n",
            "Epoch 3/20\n",
            "105/105 [==============================] - 170s 2s/step - loss: 39.0865 - mae: 5.1234 - val_loss: 42.4933 - val_mae: 5.0161\n",
            "Epoch 4/20\n",
            "105/105 [==============================] - 166s 2s/step - loss: 37.0212 - mae: 5.0178 - val_loss: 41.0447 - val_mae: 5.5499\n",
            "Epoch 5/20\n",
            "105/105 [==============================] - 166s 2s/step - loss: 37.0604 - mae: 4.9979 - val_loss: 38.5863 - val_mae: 4.8119\n",
            "Epoch 6/20\n",
            "105/105 [==============================] - 166s 2s/step - loss: 34.6146 - mae: 4.8001 - val_loss: 36.2140 - val_mae: 4.7434\n",
            "Epoch 7/20\n",
            "105/105 [==============================] - 166s 2s/step - loss: 34.0188 - mae: 4.7567 - val_loss: 35.1478 - val_mae: 4.6887\n",
            "Epoch 8/20\n",
            "105/105 [==============================] - 168s 2s/step - loss: 33.8785 - mae: 4.7474 - val_loss: 32.8886 - val_mae: 4.7890\n",
            "Epoch 9/20\n",
            "105/105 [==============================] - 166s 2s/step - loss: 32.8277 - mae: 4.6756 - val_loss: 34.5929 - val_mae: 4.9890\n",
            "Epoch 10/20\n",
            "105/105 [==============================] - 166s 2s/step - loss: 31.7596 - mae: 4.6120 - val_loss: 32.1613 - val_mae: 4.5881\n",
            "Epoch 11/20\n",
            "105/105 [==============================] - 165s 2s/step - loss: 33.1931 - mae: 4.7081 - val_loss: 33.0671 - val_mae: 4.6270\n",
            "Epoch 12/20\n",
            "105/105 [==============================] - 166s 2s/step - loss: 32.2381 - mae: 4.6187 - val_loss: 32.2647 - val_mae: 4.7460\n",
            "Epoch 13/20\n",
            "105/105 [==============================] - 166s 2s/step - loss: 31.8176 - mae: 4.6074 - val_loss: 33.1906 - val_mae: 4.8723\n",
            "Epoch 14/20\n",
            "105/105 [==============================] - 166s 2s/step - loss: 31.1964 - mae: 4.5538 - val_loss: 38.6269 - val_mae: 5.2989\n",
            "Epoch 15/20\n",
            "105/105 [==============================] - 166s 2s/step - loss: 31.9016 - mae: 4.5745 - val_loss: 32.2436 - val_mae: 4.7553\n",
            "Epoch 16/20\n",
            "105/105 [==============================] - 166s 2s/step - loss: 31.1788 - mae: 4.5461 - val_loss: 32.2942 - val_mae: 4.7048\n",
            "Epoch 17/20\n",
            "105/105 [==============================] - 166s 2s/step - loss: 31.1189 - mae: 4.4885 - val_loss: 31.2284 - val_mae: 4.5772\n",
            "Epoch 18/20\n",
            "105/105 [==============================] - 167s 2s/step - loss: 31.0662 - mae: 4.5224 - val_loss: 31.2775 - val_mae: 4.5851\n",
            "Epoch 19/20\n",
            "105/105 [==============================] - 166s 2s/step - loss: 30.8303 - mae: 4.5086 - val_loss: 36.4308 - val_mae: 4.6667\n",
            "Epoch 20/20\n",
            "105/105 [==============================] - 166s 2s/step - loss: 30.9382 - mae: 4.5002 - val_loss: 31.0587 - val_mae: 4.5816\n"
          ]
        }
      ]
    },
    {
      "cell_type": "code",
      "source": [
        "gender_model = Sequential()\n",
        "\n",
        "gender_model.add(Conv2D(36, kernel_size=3, activation='relu', input_shape=(200,200,3)))\n",
        "\n",
        "gender_model.add(MaxPool2D(pool_size=3, strides=2))\n",
        "gender_model.add(Conv2D(64, kernel_size=3, activation='relu'))\n",
        "gender_model.add(MaxPool2D(pool_size=3, strides=2))\n",
        "\n",
        "gender_model.add(Conv2D(128, kernel_size=3, activation='relu'))\n",
        "gender_model.add(MaxPool2D(pool_size=3, strides=2))\n",
        "\n",
        "gender_model.add(Conv2D(256, kernel_size=3, activation='relu'))\n",
        "gender_model.add(MaxPool2D(pool_size=3, strides=2))\n",
        "\n",
        "gender_model.add(Conv2D(512, kernel_size=3, activation='relu'))\n",
        "gender_model.add(MaxPool2D(pool_size=3, strides=2))\n",
        "\n",
        "gender_model.add(Flatten())\n",
        "gender_model.add(Dropout(0.2))\n",
        "gender_model.add(Dense(512, activation='relu'))\n",
        "gender_model.add(Dense(1, activation='sigmoid', name='gender'))\n",
        "\n",
        "gender_model.compile(optimizer='adam', loss='binary_crossentropy', metrics=['accuracy'])\n",
        "\n",
        "history_gender = gender_model.fit(x_train_gender, y_train_gender,\n",
        "                        validation_data=(x_test_gender, y_test_gender), epochs=20)\n",
        "\n",
        "gender_model.save('gender_model_20epochs.h5')"
      ],
      "metadata": {
        "colab": {
          "base_uri": "https://localhost:8080/"
        },
        "id": "0RzcFBhbdwmz",
        "outputId": "836f846d-88c5-4a6d-b35a-091fb46c31e1"
      },
      "execution_count": 10,
      "outputs": [
        {
          "output_type": "stream",
          "name": "stdout",
          "text": [
            "Epoch 1/20\n",
            "105/105 [==============================] - 56s 518ms/step - loss: 0.6785 - accuracy: 0.5648 - val_loss: 0.6285 - val_accuracy: 0.6879\n",
            "Epoch 2/20\n",
            "105/105 [==============================] - 54s 516ms/step - loss: 0.5692 - accuracy: 0.7302 - val_loss: 0.5001 - val_accuracy: 0.7561\n",
            "Epoch 3/20\n",
            "105/105 [==============================] - 57s 543ms/step - loss: 0.4411 - accuracy: 0.8089 - val_loss: 0.3321 - val_accuracy: 0.8610\n",
            "Epoch 4/20\n",
            "105/105 [==============================] - 53s 507ms/step - loss: 0.3723 - accuracy: 0.8439 - val_loss: 0.2809 - val_accuracy: 0.8933\n",
            "Epoch 5/20\n",
            "105/105 [==============================] - 53s 507ms/step - loss: 0.3197 - accuracy: 0.8666 - val_loss: 0.3407 - val_accuracy: 0.8664\n",
            "Epoch 6/20\n",
            "105/105 [==============================] - 53s 509ms/step - loss: 0.2739 - accuracy: 0.8959 - val_loss: 0.2631 - val_accuracy: 0.9076\n",
            "Epoch 7/20\n",
            "105/105 [==============================] - 54s 510ms/step - loss: 0.2568 - accuracy: 0.9001 - val_loss: 0.2618 - val_accuracy: 0.9085\n",
            "Epoch 8/20\n",
            "105/105 [==============================] - 53s 505ms/step - loss: 0.2388 - accuracy: 0.9046 - val_loss: 0.2089 - val_accuracy: 0.9256\n",
            "Epoch 9/20\n",
            "105/105 [==============================] - 53s 507ms/step - loss: 0.2191 - accuracy: 0.9159 - val_loss: 0.2038 - val_accuracy: 0.9256\n",
            "Epoch 10/20\n",
            "105/105 [==============================] - 54s 517ms/step - loss: 0.1968 - accuracy: 0.9267 - val_loss: 0.2160 - val_accuracy: 0.9256\n",
            "Epoch 11/20\n",
            "105/105 [==============================] - 53s 508ms/step - loss: 0.1961 - accuracy: 0.9252 - val_loss: 0.2004 - val_accuracy: 0.9274\n",
            "Epoch 12/20\n",
            "105/105 [==============================] - 53s 507ms/step - loss: 0.1897 - accuracy: 0.9270 - val_loss: 0.1855 - val_accuracy: 0.9300\n",
            "Epoch 13/20\n",
            "105/105 [==============================] - 53s 506ms/step - loss: 0.1718 - accuracy: 0.9354 - val_loss: 0.2038 - val_accuracy: 0.9274\n",
            "Epoch 14/20\n",
            "105/105 [==============================] - 53s 507ms/step - loss: 0.1552 - accuracy: 0.9402 - val_loss: 0.3254 - val_accuracy: 0.8870\n",
            "Epoch 15/20\n",
            "105/105 [==============================] - 53s 503ms/step - loss: 0.1585 - accuracy: 0.9411 - val_loss: 0.2030 - val_accuracy: 0.9184\n",
            "Epoch 16/20\n",
            "105/105 [==============================] - 53s 508ms/step - loss: 0.1401 - accuracy: 0.9485 - val_loss: 0.2064 - val_accuracy: 0.9247\n",
            "Epoch 17/20\n",
            "105/105 [==============================] - 54s 511ms/step - loss: 0.1355 - accuracy: 0.9503 - val_loss: 0.2278 - val_accuracy: 0.9211\n",
            "Epoch 18/20\n",
            "105/105 [==============================] - 54s 511ms/step - loss: 0.1207 - accuracy: 0.9587 - val_loss: 0.1888 - val_accuracy: 0.9354\n",
            "Epoch 19/20\n",
            "105/105 [==============================] - 54s 515ms/step - loss: 0.1112 - accuracy: 0.9620 - val_loss: 0.2376 - val_accuracy: 0.9327\n",
            "Epoch 20/20\n",
            "105/105 [==============================] - 54s 511ms/step - loss: 0.1204 - accuracy: 0.9560 - val_loss: 0.2313 - val_accuracy: 0.9309\n"
          ]
        }
      ]
    },
    {
      "cell_type": "code",
      "source": [
        "from keras.models import load_model\n",
        "Test the model\n",
        "my_model = load_model('gender_model_20epochs.h5', compile=False)\n",
        "\n",
        "\n",
        "predictions = my_model.predict(x_test_gender)\n",
        "y_pred = (predictions>= 0.5).astype(int)[:,0]\n",
        "\n",
        "from sklearn import metrics\n",
        "print (\"Accuracy = \", metrics.accuracy_score(y_test_gender, y_pred))\n",
        "\n",
        "#Confusion Matrix - verify accuracy of each class\n",
        "from sklearn.metrics import confusion_matrix\n",
        "import seaborn as sns\n",
        "cm=confusion_matrix(y_test_gender, y_pred)\n",
        "sns.heatmap(cm, annot=True)\n"
      ],
      "metadata": {
        "colab": {
          "base_uri": "https://localhost:8080/",
          "height": 484
        },
        "id": "86XIH-wukTrj",
        "outputId": "0bc8838e-00fd-4f22-b96c-9ba596c456ea"
      },
      "execution_count": 13,
      "outputs": [
        {
          "output_type": "stream",
          "name": "stdout",
          "text": [
            "35/35 [==============================] - 3s 79ms/step\n",
            "Accuracy =  0.9309417040358744\n"
          ]
        },
        {
          "output_type": "execute_result",
          "data": {
            "text/plain": [
              "<Axes: >"
            ]
          },
          "metadata": {},
          "execution_count": 13
        },
        {
          "output_type": "display_data",
          "data": {
            "text/plain": [
              "<Figure size 640x480 with 2 Axes>"
            ],
            "image/png": "[encoded data removed]"
          },
          "metadata": {}
        }
      ]
    },
    {
      "cell_type": "code",
      "source": [],
      "metadata": {
        "id": "A_3sfbZykYjj"
      },
      "execution_count": null,
      "outputs": []
    }
  ]
}